{
  "nbformat": 4,
  "nbformat_minor": 0,
  "metadata": {
    "colab": {
      "provenance": []
    },
    "kernelspec": {
      "name": "python3",
      "display_name": "Python 3"
    },
    "language_info": {
      "name": "python"
    }
  },
  "cells": [
    {
      "cell_type": "code",
      "execution_count": null,
      "metadata": {
        "id": "7LcriuuQ-lPj"
      },
      "outputs": [],
      "source": [
        "cart = {}\n",
        "tax = 0.07\n",
        "disc_lim = 250\n",
        "disc_perc = 5\n",
        "\n",
        "def apply_disc(amt):\n",
        "    return amt - (amt * disc_perc / 100) if amt >= disc_lim else amt\n",
        "\n",
        "while True:\n",
        "    item = input(\"Enter item (or 'done' to finish): \")\n",
        "    if item.lower() == 'done':\n",
        "        break\n",
        "\n",
        "    price = float(input(f\"Enter price for {item}: \"))\n",
        "    qty = int(input(f\"Enter quantity for {item}: \"))\n",
        "\n",
        "    cart[item] = cart.get(item, {'p': price, 'q': 0})\n",
        "    cart[item]['q'] += qty\n",
        "\n",
        "print(\"\\nCart Summary:\")\n",
        "if cart:\n",
        "    sub = sum(d['p'] * d['q'] for d in cart.values())\n",
        "    disc_sub = apply_disc(sub)\n",
        "    tax_amt = disc_sub * tax\n",
        "    total = disc_sub + tax_amt\n",
        "\n",
        "    for item, d in cart.items():\n",
        "        item_total = d['p'] * d['q']\n",
        "        print(f\"{item}: Rs{item_total:.2f}\")\n",
        "\n",
        "    print(f\"Subtotal: Rs{sub:.2f}\")\n",
        "    if sub >= disc_lim:\n",
        "        print(f\"Discount: Rs{sub - disc_sub:.2f}\")\n",
        "    print(f\"Tax: Rs{tax_amt:.2f}\")\n",
        "    print(f\"Total: Rs{total:.2f}\\n\")\n",
        "else:\n",
        "    print(\"Cart is empty.\\n\")"
      ]
    }
  ]
}